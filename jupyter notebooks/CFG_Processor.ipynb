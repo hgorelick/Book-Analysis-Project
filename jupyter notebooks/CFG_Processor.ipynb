{
 "cells": [
  {
   "cell_type": "code",
   "execution_count": 1,
   "metadata": {},
   "outputs": [],
   "source": [
    "# import logging\n",
    "import pickle\n",
    "\n",
    "from nltk.parse.stanford import StanfordParser\n",
    "from tqdm.notebook import tqdm_notebook as tqdm\n",
    "\n",
    "from notebook_utils.constants import PROJ_ROOT, GENRES\n",
    "\n",
    "# logging.basicConfig(filename=\"text_processor_saver.log\", filemode=\"w\", format=\"%(asctime)s::%(levelname)s - %(message)s\", level=logging.INFO)\n",
    "\n",
    "clausal = [\"S\", \"SBAR\", \"SBARQ\", \"SINV\", \"SQ\"]\n",
    "phrasal = [\"ADJP\", \"ADVP\", \"CONJP\", \"FRAG\", \"INTJ\", \"LST\", \"NAC\", \"NP\", \"NX\", \"PP\", \"PRN\", \"PRT\", \"QP\", \"RRC\", \"UCP\", \"VP\",\n",
    "           \"WHADJP\", \"WHAVP\", \"WHNP\", \"WHPP\", \"X\"]"
   ]
  },
  {
   "cell_type": "code",
   "execution_count": 2,
   "metadata": {},
   "outputs": [
    {
     "name": "stderr",
     "output_type": "stream",
     "text": [
      "c:\\python37\\lib\\site-packages\\ipykernel_launcher.py:25: DeprecationWarning: The StanfordParser will be deprecated\n",
      "Please use \u001b[91mnltk.parse.corenlp.CoreNLPParser\u001b[0m instead.\n"
     ]
    }
   ],
   "source": [
    "def traverse(tree, tags):\n",
    "    for subtree in tree:\n",
    "        if not isinstance(subtree, str):\n",
    "            label = subtree.label()\n",
    "            if label in clausal:\n",
    "                if label in tags[\"clausal\"].keys():\n",
    "                    tags[\"clausal\"][label] += 1\n",
    "                else:\n",
    "                    tags[\"clausal\"][label] = 1\n",
    "            elif label in phrasal:\n",
    "                if label in tags[\"phrasal\"].keys():\n",
    "                    tags[\"phrasal\"][label] += 1\n",
    "                else:\n",
    "                    tags[\"phrasal\"][label] = 1\n",
    "            if len(subtree) > 1:\n",
    "                traverse(subtree, tags)\n",
    "\n",
    "\n",
    "all_tags = {genre: pickle.load(open(str(PROJ_ROOT.joinpath(\"data\", f\"{genre}_pos_tags.txt\")), \"rb+\")) for genre in GENRES}\n",
    "clausal_data = {genre: [] for genre in GENRES}\n",
    "phrasal_data = {genre: [] for genre in GENRES}\n",
    "\n",
    "scp = StanfordParser(path_to_jar=str(PROJ_ROOT.joinpath(\"stanford-parser-full-2018-10-17\", \"stanford-parser.jar\")),\n",
    "                     path_to_models_jar=str(PROJ_ROOT.joinpath(\"stanford-parser-full-2018-10-17\", \"stanford-parser-3.9.2-models.jar\")),\n",
    "                     java_options=\"-Xmx4G\")"
   ]
  },
  {
   "cell_type": "code",
   "execution_count": 3,
   "metadata": {
    "scrolled": true
   },
   "outputs": [
    {
     "data": {
      "application/vnd.jupyter.widget-view+json": {
       "model_id": "da630a3ad50945748e17c196db073f65",
       "version_major": 2,
       "version_minor": 0
      },
      "text/plain": [
       "HBox(children=(FloatProgress(value=0.0, max=792000.0), HTML(value='')))"
      ]
     },
     "metadata": {},
     "output_type": "display_data"
    },
    {
     "name": "stdout",
     "output_type": "stream",
     "text": [
      "SLF4J: Failed to load class \"org.slf4j.impl.StaticLoggerBinder\".\n",
      "SLF4J: Defaulting to no-operation (NOP) logger implementation\n",
      "SLF4J: See http://www.slf4j.org/codes.html#StaticLoggerBinder for further details.\n",
      "Parsing file: C:\\Users\\hgore\\AppData\\Local\\Temp\\tmp6me0l5zn\n",
      "Parsing [sent. 1 len. 1078]: or good advice to cats and kittens , \" 1859 ; \" the world of ice , or adventures in the polar regions , \" 1860 ( 1859 ) ; \" the dog crusoe , a tale of the western prairies , \" 1861 ( 1860 ) ; \" the golden dream , or adventures in the far west , \" 1861 ( 1860 ) ; \" the gorilla hunters , a tale of the wilds of africa , \" 1861 ; \" the red eric , or the whaler 's last cruise , \" 1861 ; \" man on the ocean , a book for boys , \" 1863 ( 1862 ) ; \" the wild man of the west , a tale of the rocky mountains , \" 1863 ( 1862 ) ; \" gascoyne , the sandal - wood trader , a tale of the pacific , \" 1864 ( 1863 ) ; \" the lifeboat , a tale of our coast heroes , \" 1864 ; \" freaks on the fells , or three months ' rustication , \" and \" why i did not become a sailor , \" etc. , 1865 ( 1861 ) ; \" the lighthouse , being the story of a great fight between man and the sea , \" etc. , 1865 ; \" shifting winds , a tough yarn , \" etc. , 1866 ; \" silver lake , or lost in the snow , \" 1867 ; \" a rescue in the rocky mountains , \" 1867 ; \" fighting the flames , a tale of the london fire brigade , \" 1868 ; \" away in the wilderness , or life among the red indians and fur traders of north america , \" 1869 ; \" erling the bold , a tale of the norse sea-kings , \" with illustrations by the author , 1869 ; \" deep down , a tale of the cornish mines , \" 1869 ; \" the floating light of the goodwin sands , \" with illustrations by the author , 1870 ; \" the iron horse , or life on the line , a tale of the grand national trunk railway , \" 1871 ; \" the norsemen in the west , or america before columbus , \" 1872 ; \" the pioneers , a tale of the western wilderness , illustrative of the adventures and discoveries of sir a. mackenzie , \" 1872 ; \" black ivory , a tale of adventure among the slaves of east africa , \" 1873 ; \" life in the red brigade , a story for boys , \" 1873 ; \" the ocean and its wonders , \" 1874 ; \" the pirate city , an algerine tale , \" 1875 ; \" under the waves , or diving in deep waters , \" 1876 ; \" rivers of ice , a tale illustrative of alpine adventure and glacier action , \" 1876 ; \" the settler and the savage , a tale of peace and war in south africa , \" 1877 ; \" jarwin and cuffy \" ( incident and adventure library ) , 1878 ; \" in the track of the troops , a tale of modern war , \" 1878 ; \" six months at the cape , or letters to periwinkle from south africa , \" 1879 ( 1878 ) ; \" post haste , a tale of her majesty 's mails , \" 1880 ( 1879 ) ; \" the red man 's revenge , a tale of the red river flood , \" 1880 ; \" philosopher jack , a tale of the southern seas , \" 1880 ; \" the lonely island , or the refuge of the mutineers , \" 1880 ; \" the robber kitten \" ( in volume of tales by two or three authors ) , 1880 ; \" the collected works of ensign sopht , late of the volunteers , illustrated by himself , \" 1881 ; \" my doggie and i , \" etc. , 1881 ; \" the giant of the north , or pokings round the pole , \" 1882 ( 1881 ) ; \" the kitten pilgrims , or great battles and grand victories , \" 1882 ; \" the madman and the pirate , \" 1883 ; \" the battery and the boiler , or adventures in the laying of submarine cables , \" etc. , 1883 ; \" battles with the sea , or heroes of the lifeboat and rocket , \" 1883 ; \" dusty diamonds cut and polished , a tale of city - arab life and adventure , \" 1884 ( 1862 ) ; \" twice bought , a tale of the oregon gold - fields , \" 1885 ( 1863 ) ; \" the island queen , a tale of the southern hemisphere , \" etc. , 1885 ; \" the rover of the andes , a tale of adventure in south america , \" 1885 ; \" red rooney , or the last of the crew , \" 1886 ; \" the big otter , a tale of the great nor '-west , \" 1887 ( 1864 ) ; \" the middy of the moors , an algerine story , \" 1888 ; \" blue lights , or hot work in the soudan , a tale of soldier life , \" 1888 ; \" the crew of the water wagtail , a story of newfoundland , \" 1889 ; \" a gallant rescue \" ( stories jolly , stories new , etc. ) , 1889 ; \" the fight on the green \" ( miles ' fifty - two stories for boys ) , 1889 ; \" charlie to the rescue , a tale of the sea and the rockies , \" with illustrations by the author , 1890 ; \" the garret and the garden ... , or the young coast - guardsman , \" 1890 ; \" the coxswain 's bride , or the rising tide , and other tales , \" with illustrations by the author , 1891 ; \" the hot swamp , a romance of old albion , \" 1892 ; \" hunted and harried , a tale of the scottish covenanters , \" 1892 ; \" the walrus hunters , a romance of the realms of ice , \" 1893 .\n",
      "\n",
      "*******************************************************\n",
      "***  WARNING!! OUT OF MEMORY! THERE WAS NOT ENOUGH  ***\n",
      "***  MEMORY TO RUN ALL PARSERS.  EITHER GIVE THE    ***\n",
      "***  JVM MORE MEMORY, SET THE MAXIMUM SENTENCE      ***\n",
      "***  LENGTH WITH -maxLength, OR PERHAPS YOU ARE     ***\n",
      "***  HAPPY TO HAVE THE PARSER FALL BACK TO USING    ***\n",
      "***  A SIMPLER PARSER FOR VERY LONG SENTENCES.      ***\n",
      "*******************************************************\n",
      "\n",
      "Sentence has no parse using PCFG grammar (or no PCFG fallback).  Skipping...\n",
      "Exception in thread \"main\" edu.stanford.nlp.parser.common.NoSuchParseException\n",
      "\tat edu.stanford.nlp.parser.lexparser.LexicalizedParserQuery.getBestParse(LexicalizedParserQuery.java:403)\n",
      "\tat edu.stanford.nlp.parser.lexparser.LexicalizedParserQuery.getBestParse(LexicalizedParserQuery.java:375)\n",
      "\tat edu.stanford.nlp.parser.lexparser.ParseFiles.processResults(ParseFiles.java:272)\n",
      "\tat edu.stanford.nlp.parser.lexparser.ParseFiles.parseFiles(ParseFiles.java:216)\n",
      "\tat edu.stanford.nlp.parser.lexparser.ParseFiles.parseFiles(ParseFiles.java:75)\n",
      "\tat edu.stanford.nlp.parser.lexparser.LexicalizedParser.main(LexicalizedParser.java:1518)\n",
      "\n",
      "Adventure_Stories, 2\n",
      "\n"
     ]
    },
    {
     "ename": "KeyboardInterrupt",
     "evalue": "",
     "output_type": "error",
     "traceback": [
      "\u001b[1;31m---------------------------------------------------------------------------\u001b[0m",
      "\u001b[1;31mKeyboardInterrupt\u001b[0m                         Traceback (most recent call last)",
      "\u001b[1;32m<ipython-input-3-a1484045e1d2>\u001b[0m in \u001b[0;36m<module>\u001b[1;34m\u001b[0m\n\u001b[0;32m     14\u001b[0m \u001b[1;33m\u001b[0m\u001b[0m\n\u001b[0;32m     15\u001b[0m                 \u001b[1;32mtry\u001b[0m\u001b[1;33m:\u001b[0m\u001b[1;33m\u001b[0m\u001b[1;33m\u001b[0m\u001b[0m\n\u001b[1;32m---> 16\u001b[1;33m                     \u001b[0mparsed\u001b[0m \u001b[1;33m=\u001b[0m \u001b[0mscp\u001b[0m\u001b[1;33m.\u001b[0m\u001b[0mtagged_parse\u001b[0m\u001b[1;33m(\u001b[0m\u001b[0msentence\u001b[0m\u001b[1;33m)\u001b[0m\u001b[1;33m\u001b[0m\u001b[1;33m\u001b[0m\u001b[0m\n\u001b[0m\u001b[0;32m     17\u001b[0m                     \u001b[0mresults\u001b[0m \u001b[1;33m=\u001b[0m \u001b[1;33m[\u001b[0m\u001b[0mitem\u001b[0m \u001b[1;32mfor\u001b[0m \u001b[0mitem\u001b[0m \u001b[1;32min\u001b[0m \u001b[0mparsed\u001b[0m\u001b[1;33m]\u001b[0m\u001b[1;33m\u001b[0m\u001b[1;33m\u001b[0m\u001b[0m\n\u001b[0;32m     18\u001b[0m                     \u001b[0mtraverse\u001b[0m\u001b[1;33m(\u001b[0m\u001b[0mresults\u001b[0m\u001b[1;33m[\u001b[0m\u001b[1;36m0\u001b[0m\u001b[1;33m]\u001b[0m\u001b[1;33m,\u001b[0m \u001b[0msent_tags\u001b[0m\u001b[1;33m)\u001b[0m\u001b[1;33m\u001b[0m\u001b[1;33m\u001b[0m\u001b[0m\n",
      "\u001b[1;32mc:\\python37\\lib\\site-packages\\nltk\\parse\\stanford.py\u001b[0m in \u001b[0;36mtagged_parse\u001b[1;34m(self, sentence, verbose)\u001b[0m\n\u001b[0;32m    191\u001b[0m         \u001b[1;33m:\u001b[0m\u001b[0mrtype\u001b[0m\u001b[1;33m:\u001b[0m \u001b[0miter\u001b[0m\u001b[1;33m(\u001b[0m\u001b[0mTree\u001b[0m\u001b[1;33m)\u001b[0m\u001b[1;33m\u001b[0m\u001b[1;33m\u001b[0m\u001b[0m\n\u001b[0;32m    192\u001b[0m         \"\"\"\n\u001b[1;32m--> 193\u001b[1;33m         \u001b[1;32mreturn\u001b[0m \u001b[0mnext\u001b[0m\u001b[1;33m(\u001b[0m\u001b[0mself\u001b[0m\u001b[1;33m.\u001b[0m\u001b[0mtagged_parse_sents\u001b[0m\u001b[1;33m(\u001b[0m\u001b[1;33m[\u001b[0m\u001b[0msentence\u001b[0m\u001b[1;33m]\u001b[0m\u001b[1;33m,\u001b[0m \u001b[0mverbose\u001b[0m\u001b[1;33m)\u001b[0m\u001b[1;33m)\u001b[0m\u001b[1;33m\u001b[0m\u001b[1;33m\u001b[0m\u001b[0m\n\u001b[0m\u001b[0;32m    194\u001b[0m \u001b[1;33m\u001b[0m\u001b[0m\n\u001b[0;32m    195\u001b[0m     \u001b[1;32mdef\u001b[0m \u001b[0mtagged_parse_sents\u001b[0m\u001b[1;33m(\u001b[0m\u001b[0mself\u001b[0m\u001b[1;33m,\u001b[0m \u001b[0msentences\u001b[0m\u001b[1;33m,\u001b[0m \u001b[0mverbose\u001b[0m\u001b[1;33m=\u001b[0m\u001b[1;32mFalse\u001b[0m\u001b[1;33m)\u001b[0m\u001b[1;33m:\u001b[0m\u001b[1;33m\u001b[0m\u001b[1;33m\u001b[0m\u001b[0m\n",
      "\u001b[1;32mc:\\python37\\lib\\site-packages\\nltk\\parse\\stanford.py\u001b[0m in \u001b[0;36mtagged_parse_sents\u001b[1;34m(self, sentences, verbose)\u001b[0m\n\u001b[0;32m    228\u001b[0m                     \u001b[1;32mfor\u001b[0m \u001b[0msentence\u001b[0m \u001b[1;32min\u001b[0m \u001b[0msentences\u001b[0m\u001b[1;33m\u001b[0m\u001b[1;33m\u001b[0m\u001b[0m\n\u001b[0;32m    229\u001b[0m                 ),\n\u001b[1;32m--> 230\u001b[1;33m                 \u001b[0mverbose\u001b[0m\u001b[1;33m,\u001b[0m\u001b[1;33m\u001b[0m\u001b[1;33m\u001b[0m\u001b[0m\n\u001b[0m\u001b[0;32m    231\u001b[0m             )\n\u001b[0;32m    232\u001b[0m         )\n",
      "\u001b[1;32mc:\\python37\\lib\\site-packages\\nltk\\parse\\stanford.py\u001b[0m in \u001b[0;36m_execute\u001b[1;34m(self, cmd, input_, verbose)\u001b[0m\n\u001b[0;32m    264\u001b[0m                 \u001b[0mcmd\u001b[0m\u001b[1;33m.\u001b[0m\u001b[0mappend\u001b[0m\u001b[1;33m(\u001b[0m\u001b[0minput_file\u001b[0m\u001b[1;33m.\u001b[0m\u001b[0mname\u001b[0m\u001b[1;33m)\u001b[0m\u001b[1;33m\u001b[0m\u001b[1;33m\u001b[0m\u001b[0m\n\u001b[0;32m    265\u001b[0m                 stdout, stderr = java(\n\u001b[1;32m--> 266\u001b[1;33m                     \u001b[0mcmd\u001b[0m\u001b[1;33m,\u001b[0m \u001b[0mclasspath\u001b[0m\u001b[1;33m=\u001b[0m\u001b[0mself\u001b[0m\u001b[1;33m.\u001b[0m\u001b[0m_classpath\u001b[0m\u001b[1;33m,\u001b[0m \u001b[0mstdout\u001b[0m\u001b[1;33m=\u001b[0m\u001b[0mPIPE\u001b[0m\u001b[1;33m,\u001b[0m \u001b[0mstderr\u001b[0m\u001b[1;33m=\u001b[0m\u001b[0mPIPE\u001b[0m\u001b[1;33m\u001b[0m\u001b[1;33m\u001b[0m\u001b[0m\n\u001b[0m\u001b[0;32m    267\u001b[0m                 )\n\u001b[0;32m    268\u001b[0m \u001b[1;33m\u001b[0m\u001b[0m\n",
      "\u001b[1;32mc:\\python37\\lib\\site-packages\\nltk\\internals.py\u001b[0m in \u001b[0;36mjava\u001b[1;34m(cmd, classpath, stdin, stdout, stderr, blocking)\u001b[0m\n\u001b[0;32m    139\u001b[0m     \u001b[1;32mif\u001b[0m \u001b[1;32mnot\u001b[0m \u001b[0mblocking\u001b[0m\u001b[1;33m:\u001b[0m\u001b[1;33m\u001b[0m\u001b[1;33m\u001b[0m\u001b[0m\n\u001b[0;32m    140\u001b[0m         \u001b[1;32mreturn\u001b[0m \u001b[0mp\u001b[0m\u001b[1;33m\u001b[0m\u001b[1;33m\u001b[0m\u001b[0m\n\u001b[1;32m--> 141\u001b[1;33m     \u001b[1;33m(\u001b[0m\u001b[0mstdout\u001b[0m\u001b[1;33m,\u001b[0m \u001b[0mstderr\u001b[0m\u001b[1;33m)\u001b[0m \u001b[1;33m=\u001b[0m \u001b[0mp\u001b[0m\u001b[1;33m.\u001b[0m\u001b[0mcommunicate\u001b[0m\u001b[1;33m(\u001b[0m\u001b[1;33m)\u001b[0m\u001b[1;33m\u001b[0m\u001b[1;33m\u001b[0m\u001b[0m\n\u001b[0m\u001b[0;32m    142\u001b[0m \u001b[1;33m\u001b[0m\u001b[0m\n\u001b[0;32m    143\u001b[0m     \u001b[1;31m# Check the return code.\u001b[0m\u001b[1;33m\u001b[0m\u001b[1;33m\u001b[0m\u001b[1;33m\u001b[0m\u001b[0m\n",
      "\u001b[1;32mc:\\python37\\lib\\subprocess.py\u001b[0m in \u001b[0;36mcommunicate\u001b[1;34m(self, input, timeout)\u001b[0m\n\u001b[0;32m    937\u001b[0m \u001b[1;33m\u001b[0m\u001b[0m\n\u001b[0;32m    938\u001b[0m             \u001b[1;32mtry\u001b[0m\u001b[1;33m:\u001b[0m\u001b[1;33m\u001b[0m\u001b[1;33m\u001b[0m\u001b[0m\n\u001b[1;32m--> 939\u001b[1;33m                 \u001b[0mstdout\u001b[0m\u001b[1;33m,\u001b[0m \u001b[0mstderr\u001b[0m \u001b[1;33m=\u001b[0m \u001b[0mself\u001b[0m\u001b[1;33m.\u001b[0m\u001b[0m_communicate\u001b[0m\u001b[1;33m(\u001b[0m\u001b[0minput\u001b[0m\u001b[1;33m,\u001b[0m \u001b[0mendtime\u001b[0m\u001b[1;33m,\u001b[0m \u001b[0mtimeout\u001b[0m\u001b[1;33m)\u001b[0m\u001b[1;33m\u001b[0m\u001b[1;33m\u001b[0m\u001b[0m\n\u001b[0m\u001b[0;32m    940\u001b[0m             \u001b[1;32mexcept\u001b[0m \u001b[0mKeyboardInterrupt\u001b[0m\u001b[1;33m:\u001b[0m\u001b[1;33m\u001b[0m\u001b[1;33m\u001b[0m\u001b[0m\n\u001b[0;32m    941\u001b[0m                 \u001b[1;31m# https://bugs.python.org/issue25942\u001b[0m\u001b[1;33m\u001b[0m\u001b[1;33m\u001b[0m\u001b[1;33m\u001b[0m\u001b[0m\n",
      "\u001b[1;32mc:\\python37\\lib\\subprocess.py\u001b[0m in \u001b[0;36m_communicate\u001b[1;34m(self, input, endtime, orig_timeout)\u001b[0m\n\u001b[0;32m   1265\u001b[0m             \u001b[1;31m# calls communicate again.\u001b[0m\u001b[1;33m\u001b[0m\u001b[1;33m\u001b[0m\u001b[1;33m\u001b[0m\u001b[0m\n\u001b[0;32m   1266\u001b[0m             \u001b[1;32mif\u001b[0m \u001b[0mself\u001b[0m\u001b[1;33m.\u001b[0m\u001b[0mstdout\u001b[0m \u001b[1;32mis\u001b[0m \u001b[1;32mnot\u001b[0m \u001b[1;32mNone\u001b[0m\u001b[1;33m:\u001b[0m\u001b[1;33m\u001b[0m\u001b[1;33m\u001b[0m\u001b[0m\n\u001b[1;32m-> 1267\u001b[1;33m                 \u001b[0mself\u001b[0m\u001b[1;33m.\u001b[0m\u001b[0mstdout_thread\u001b[0m\u001b[1;33m.\u001b[0m\u001b[0mjoin\u001b[0m\u001b[1;33m(\u001b[0m\u001b[0mself\u001b[0m\u001b[1;33m.\u001b[0m\u001b[0m_remaining_time\u001b[0m\u001b[1;33m(\u001b[0m\u001b[0mendtime\u001b[0m\u001b[1;33m)\u001b[0m\u001b[1;33m)\u001b[0m\u001b[1;33m\u001b[0m\u001b[1;33m\u001b[0m\u001b[0m\n\u001b[0m\u001b[0;32m   1268\u001b[0m                 \u001b[1;32mif\u001b[0m \u001b[0mself\u001b[0m\u001b[1;33m.\u001b[0m\u001b[0mstdout_thread\u001b[0m\u001b[1;33m.\u001b[0m\u001b[0mis_alive\u001b[0m\u001b[1;33m(\u001b[0m\u001b[1;33m)\u001b[0m\u001b[1;33m:\u001b[0m\u001b[1;33m\u001b[0m\u001b[1;33m\u001b[0m\u001b[0m\n\u001b[0;32m   1269\u001b[0m                     \u001b[1;32mraise\u001b[0m \u001b[0mTimeoutExpired\u001b[0m\u001b[1;33m(\u001b[0m\u001b[0mself\u001b[0m\u001b[1;33m.\u001b[0m\u001b[0margs\u001b[0m\u001b[1;33m,\u001b[0m \u001b[0morig_timeout\u001b[0m\u001b[1;33m)\u001b[0m\u001b[1;33m\u001b[0m\u001b[1;33m\u001b[0m\u001b[0m\n",
      "\u001b[1;32mc:\\python37\\lib\\threading.py\u001b[0m in \u001b[0;36mjoin\u001b[1;34m(self, timeout)\u001b[0m\n\u001b[0;32m   1042\u001b[0m \u001b[1;33m\u001b[0m\u001b[0m\n\u001b[0;32m   1043\u001b[0m         \u001b[1;32mif\u001b[0m \u001b[0mtimeout\u001b[0m \u001b[1;32mis\u001b[0m \u001b[1;32mNone\u001b[0m\u001b[1;33m:\u001b[0m\u001b[1;33m\u001b[0m\u001b[1;33m\u001b[0m\u001b[0m\n\u001b[1;32m-> 1044\u001b[1;33m             \u001b[0mself\u001b[0m\u001b[1;33m.\u001b[0m\u001b[0m_wait_for_tstate_lock\u001b[0m\u001b[1;33m(\u001b[0m\u001b[1;33m)\u001b[0m\u001b[1;33m\u001b[0m\u001b[1;33m\u001b[0m\u001b[0m\n\u001b[0m\u001b[0;32m   1045\u001b[0m         \u001b[1;32melse\u001b[0m\u001b[1;33m:\u001b[0m\u001b[1;33m\u001b[0m\u001b[1;33m\u001b[0m\u001b[0m\n\u001b[0;32m   1046\u001b[0m             \u001b[1;31m# the behavior of a negative timeout isn't documented, but\u001b[0m\u001b[1;33m\u001b[0m\u001b[1;33m\u001b[0m\u001b[1;33m\u001b[0m\u001b[0m\n",
      "\u001b[1;32mc:\\python37\\lib\\threading.py\u001b[0m in \u001b[0;36m_wait_for_tstate_lock\u001b[1;34m(self, block, timeout)\u001b[0m\n\u001b[0;32m   1058\u001b[0m         \u001b[1;32mif\u001b[0m \u001b[0mlock\u001b[0m \u001b[1;32mis\u001b[0m \u001b[1;32mNone\u001b[0m\u001b[1;33m:\u001b[0m  \u001b[1;31m# already determined that the C code is done\u001b[0m\u001b[1;33m\u001b[0m\u001b[1;33m\u001b[0m\u001b[0m\n\u001b[0;32m   1059\u001b[0m             \u001b[1;32massert\u001b[0m \u001b[0mself\u001b[0m\u001b[1;33m.\u001b[0m\u001b[0m_is_stopped\u001b[0m\u001b[1;33m\u001b[0m\u001b[1;33m\u001b[0m\u001b[0m\n\u001b[1;32m-> 1060\u001b[1;33m         \u001b[1;32melif\u001b[0m \u001b[0mlock\u001b[0m\u001b[1;33m.\u001b[0m\u001b[0macquire\u001b[0m\u001b[1;33m(\u001b[0m\u001b[0mblock\u001b[0m\u001b[1;33m,\u001b[0m \u001b[0mtimeout\u001b[0m\u001b[1;33m)\u001b[0m\u001b[1;33m:\u001b[0m\u001b[1;33m\u001b[0m\u001b[1;33m\u001b[0m\u001b[0m\n\u001b[0m\u001b[0;32m   1061\u001b[0m             \u001b[0mlock\u001b[0m\u001b[1;33m.\u001b[0m\u001b[0mrelease\u001b[0m\u001b[1;33m(\u001b[0m\u001b[1;33m)\u001b[0m\u001b[1;33m\u001b[0m\u001b[1;33m\u001b[0m\u001b[0m\n\u001b[0;32m   1062\u001b[0m             \u001b[0mself\u001b[0m\u001b[1;33m.\u001b[0m\u001b[0m_stop\u001b[0m\u001b[1;33m(\u001b[0m\u001b[1;33m)\u001b[0m\u001b[1;33m\u001b[0m\u001b[1;33m\u001b[0m\u001b[0m\n",
      "\u001b[1;31mKeyboardInterrupt\u001b[0m: "
     ]
    }
   ],
   "source": [
    "bar_length = sum(len(all_tags[genre]) for genre in GENRES) * 1000\n",
    "\n",
    "with tqdm(total=bar_length) as pbar:\n",
    "    for genre in GENRES:\n",
    "        # logging.info(f\"Extracting data from {genre} books...\")\n",
    "        for i, (b_num, tagged_sents) in enumerate(all_tags[genre].items()):\n",
    "            pbar.set_postfix_str(f\" -- {genre} -- [{i + 1}/{len(all_tags[genre])}] \")\n",
    "            # logging.info(f\"Analyzing book {i + 1} of {len(all_tags[genre])}\")\n",
    "\n",
    "            book_clausal = []\n",
    "            book_phrasal = []\n",
    "            for sentence in tagged_sents:\n",
    "                sent_tags = {\"clausal\": {}, \"phrasal\": {}}\n",
    "                \n",
    "                try:\n",
    "                    parsed = scp.tagged_parse(sentence)\n",
    "                    results = [item for item in parsed]\n",
    "                    traverse(results[0], sent_tags)\n",
    "                    c = {\"Book #\": b_num, \"@Genre\": genre}\n",
    "                    p = {\"Book #\": b_num, \"@Genre\": genre}\n",
    "                    \n",
    "                    for k, v in sent_tags[\"clausal\"].items():\n",
    "                        c.update({k: v})\n",
    "                    for k, v in sent_tags[\"phrasal\"].items():\n",
    "                        p.update({k: v})\n",
    "                        \n",
    "                    book_clausal.append(c)\n",
    "                    book_phrasal.append(p)\n",
    "                    pbar.update(1)\n",
    "                    \n",
    "                except (AssertionError, RuntimeError, OSError) as e:\n",
    "                    print(f\"{genre}, {i}\")\n",
    "                    pbar.update(1)\n",
    "                    continue\n",
    "\n",
    "            if len(tagged_sents) < 1000:\n",
    "                pbar.update(1000 - len(tagged_sents))\n",
    "\n",
    "        with open(str(PROJ_ROOT.joinpath(\"data\", f\"{genre}_clausal_data.txt\")), \"wb+\") as f:\n",
    "            try:\n",
    "                pickle.dump(clausal_data[genre], f)\n",
    "            except MemoryError:\n",
    "                print(f\"There was a MemoryError when dumping {genre}_clausal_data\")\n",
    "                # logging.error(f\"MemoryError dumping {genre}_clausal_data\", exc_info=True)\n",
    "\n",
    "        with open(str(PROJ_ROOT.joinpath(\"data\", f\"{genre}_phrasal_data.txt\")), \"wb+\") as f:\n",
    "            try:\n",
    "                pickle.dump(phrasal_data[genre], f)\n",
    "            except MemoryError:\n",
    "                print(f\"There was a MemoryError when dumping {genre}_phrasal_data\")\n",
    "                # logging.error(f\"MemoryError dumping {genre}_phrasal_data\", exc_info=True)"
   ]
  }
 ],
 "metadata": {
  "kernelspec": {
   "display_name": "Python 3",
   "language": "python",
   "name": "python3"
  },
  "language_info": {
   "codemirror_mode": {
    "name": "ipython",
    "version": 3
   },
   "file_extension": ".py",
   "mimetype": "text/x-python",
   "name": "python",
   "nbconvert_exporter": "python",
   "pygments_lexer": "ipython3",
   "version": "3.7.4"
  }
 },
 "nbformat": 4,
 "nbformat_minor": 4
}
