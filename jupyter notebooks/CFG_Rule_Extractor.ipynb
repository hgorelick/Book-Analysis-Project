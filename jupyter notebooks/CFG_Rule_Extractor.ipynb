{
 "cells": [
  {
   "cell_type": "code",
   "execution_count": 1,
   "metadata": {},
   "outputs": [],
   "source": [
    "import pickle\n",
    "import string\n",
    "from collections import Counter, defaultdict\n",
    "\n",
    "import pandas as pd\n",
    "from IPython.display import display, HTML\n",
    "from nltk.parse import CoreNLPParser\n",
    "from nltk.tree import ParentedTree\n",
    "from tqdm.notebook import tqdm_notebook as tqdm\n",
    "\n",
    "from notebook_utils.constants import PROJ_ROOT, GENRES\n",
    "from notebook_utils.data_loader import load_all_books"
   ]
  },
  {
   "cell_type": "code",
   "execution_count": 2,
   "metadata": {},
   "outputs": [],
   "source": [
    "def get_rules(tree, rules, seen: set):\n",
    "    if not isinstance(tree, ParentedTree):\n",
    "        ptree = ParentedTree.convert(tree)\n",
    "    else:\n",
    "        ptree = tree\n",
    "\n",
    "    for subtree in ptree:\n",
    "        if isinstance(subtree, ParentedTree) and subtree.height() > 2:\n",
    "            get_rules(subtree, rules, seen)\n",
    "\n",
    "    productions = ptree.productions()\n",
    "    for rule in productions:\n",
    "        if rule.is_lexical() and rule not in seen and str(rule._lhs) not in string.punctuation:\n",
    "            rule_str = f\"{rule._lhs} -> {' '.join([rhs for rhs in rule._rhs])}\"\n",
    "            rules[\"G\"][rule_str] += 1\n",
    "            seen.add(rule)\n",
    "            try:\n",
    "                gnode = ptree.parent().parent().label() + \" -> \"\n",
    "                rules[\"GG\"][gnode + rule_str] += 1\n",
    "            except AttributeError:\n",
    "                rules[\"gG\"][\"ROOT -> \" + rule_str] += 1\n",
    "        elif rule.is_nonlexical() and rule not in seen and str(rule._lhs) not in string.punctuation:\n",
    "            rules[\"g\"][str(rule)] += 1\n",
    "            seen.add(rule)\n",
    "            try:\n",
    "                gnode = ptree.parent().parent().label() + \" -> \"\n",
    "                rules[\"gG\"][gnode + str(rule)] += 1\n",
    "            except AttributeError:\n",
    "                rules[\"gG\"][\"ROOT -> \" + str(rule)] += 1\n",
    "\n",
    "\n",
    "all_books = load_all_books()\n",
    "all_rules = {genre: {\"G\": [], \"GG\": [], \"g\": [], \"gG\": []} for genre in GENRES}"
   ]
  },
  {
   "cell_type": "code",
   "execution_count": 3,
   "metadata": {},
   "outputs": [
    {
     "data": {
      "application/vnd.jupyter.widget-view+json": {
       "model_id": "68e06295f5834fb0a60fcfb72314922f",
       "version_major": 2,
       "version_minor": 0
      },
      "text/plain": [
       "HBox(children=(FloatProgress(value=0.0, max=799000.0), HTML(value='')))"
      ]
     },
     "metadata": {},
     "output_type": "display_data"
    },
    {
     "data": {
      "text/html": [
       "<b>Dumping Adventure_Stories CFG Rules</b>"
      ],
      "text/plain": [
       "<IPython.core.display.HTML object>"
      ]
     },
     "metadata": {},
     "output_type": "display_data"
    },
    {
     "data": {
      "text/html": [
       "<b>Dumping Fiction CFG Rules</b>"
      ],
      "text/plain": [
       "<IPython.core.display.HTML object>"
      ]
     },
     "metadata": {},
     "output_type": "display_data"
    },
    {
     "data": {
      "text/html": [
       "<b>Dumping Historical_Fiction CFG Rules</b>"
      ],
      "text/plain": [
       "<IPython.core.display.HTML object>"
      ]
     },
     "metadata": {},
     "output_type": "display_data"
    },
    {
     "data": {
      "text/html": [
       "<b>Dumping Love_Stories CFG Rules</b>"
      ],
      "text/plain": [
       "<IPython.core.display.HTML object>"
      ]
     },
     "metadata": {},
     "output_type": "display_data"
    },
    {
     "data": {
      "text/html": [
       "<b>Dumping Mystery CFG Rules</b>"
      ],
      "text/plain": [
       "<IPython.core.display.HTML object>"
      ]
     },
     "metadata": {},
     "output_type": "display_data"
    },
    {
     "data": {
      "text/html": [
       "<b>Dumping Poetry CFG Rules</b>"
      ],
      "text/plain": [
       "<IPython.core.display.HTML object>"
      ]
     },
     "metadata": {},
     "output_type": "display_data"
    },
    {
     "data": {
      "text/html": [
       "<b>Dumping Science_Fiction CFG Rules</b>"
      ],
      "text/plain": [
       "<IPython.core.display.HTML object>"
      ]
     },
     "metadata": {},
     "output_type": "display_data"
    },
    {
     "data": {
      "text/html": [
       "<b>Dumping Short_Stories CFG Rules</b>"
      ],
      "text/plain": [
       "<IPython.core.display.HTML object>"
      ]
     },
     "metadata": {},
     "output_type": "display_data"
    },
    {
     "name": "stdout",
     "output_type": "stream",
     "text": [
      "\n"
     ]
    }
   ],
   "source": [
    "bar_length = sum(len(all_books[genre]) for genre in GENRES) * 1000\n",
    "\n",
    "parser = CoreNLPParser()\n",
    "\n",
    "with tqdm(total=bar_length) as pbar:\n",
    "    for genre in GENRES:\n",
    "        for i, book in enumerate(all_books[genre]):\n",
    "            pbar.set_postfix_str(f\" -- {genre} -- [{i + 1}/{len(all_books[genre])}] \")\n",
    "            if book.book_number == \"19513\" or book.book_number == \"19640\" or book.book_number == \"19678\" \\\n",
    "                    or book.book_number == \"19782\" or book.book_number == \"19836\" or book.book_number == \"22326\" \\\n",
    "                    or book.book_number == \"1322\":\n",
    "                pbar.update(1000)\n",
    "                continue\n",
    "\n",
    "            try:\n",
    "                sentences = all_books[genre][i].first_1k_sentences\n",
    "                book_rules = []\n",
    "\n",
    "                for sentence in sentences:\n",
    "                    results = [r for r in parser.raw_parse(sentence, properties={\"annotators\": \"tokenize,ssplit,pos,parse\"})]\n",
    "                    sent_rules = {\"G\": defaultdict(lambda: 0), \"GG\": defaultdict(lambda: 0),\n",
    "                                  \"g\": defaultdict(lambda: 0), \"gG\": defaultdict(lambda: 0)}\n",
    "                    get_rules(results[0], sent_rules, set())\n",
    "\n",
    "                    book_rules.append(sent_rules)\n",
    "\n",
    "                    pbar.update(1)\n",
    "\n",
    "                if len(all_books[genre][i].first_1k_sentences) < 1000:\n",
    "                    pbar.update(1000 - len(all_books[genre][i].first_1k_sentences))\n",
    "\n",
    "                counts = {\"G\": sum([Counter(book_rules[j][\"G\"]) for j in range(len(book_rules))], Counter()),\n",
    "                          \"GG\": sum([Counter(book_rules[j][\"GG\"]) for j in range(len(book_rules))], Counter()),\n",
    "                          \"g\": sum([Counter(book_rules[j][\"g\"]) for j in range(len(book_rules))], Counter()),\n",
    "                          \"gG\": sum([Counter(book_rules[j][\"gG\"]) for j in range(len(book_rules))], Counter())}\n",
    "\n",
    "                full_book_data = {\"G\": {\"Book #\": all_books[genre][i].book_number, \"@Genre\": genre},\n",
    "                                  \"GG\": {\"Book #\": all_books[genre][i].book_number, \"@Genre\": genre},\n",
    "                                  \"g\": {\"Book #\": all_books[genre][i].book_number, \"@Genre\": genre},\n",
    "                                  \"gG\": {\"Book #\": all_books[genre][i].book_number, \"@Genre\": genre}}\n",
    "\n",
    "                full_book_data[\"G\"].update({k: v for k, v in counts[\"G\"].items() if k != \"''\" and k != \"``\" and k not in string.punctuation})\n",
    "                full_book_data[\"G\"][\"@Outcome\"] = all_books[genre][i].success\n",
    "\n",
    "                full_book_data[\"GG\"].update({k: v for k, v in counts[\"GG\"].items() if k != \"''\" and k != \"``\" and k not in string.punctuation})\n",
    "                full_book_data[\"GG\"][\"@Outcome\"] = all_books[genre][i].success\n",
    "\n",
    "                full_book_data[\"g\"].update({k: v for k, v in counts[\"g\"].items() if k != \"''\" and k != \"``\" and k not in string.punctuation})\n",
    "                full_book_data[\"g\"][\"@Outcome\"] = all_books[genre][i].success\n",
    "\n",
    "                full_book_data[\"gG\"].update({k: v for k, v in counts[\"gG\"].items() if k != \"''\" and k != \"``\" and k not in string.punctuation})\n",
    "                full_book_data[\"gG\"][\"@Outcome\"] = all_books[genre][i].success\n",
    "\n",
    "                for tag_type in [\"G\", \"GG\", \"g\", \"gG\"]:\n",
    "                    all_rules[genre][tag_type].append(full_book_data[tag_type])\n",
    "\n",
    "            except (AssertionError, RuntimeError) as e:\n",
    "                print(f\"{genre}, {book.success}, {book.book_number}\")\n",
    "                pbar.update(1000)\n",
    "                continue\n",
    "\n",
    "        display(HTML(f\"<b>Dumping {genre} CFG Rules</b>\"))\n",
    "        for tag_type in [\"G\", \"GG\", \"g\", \"gG\"]:\n",
    "            with open(str(PROJ_ROOT.joinpath(\"data\", f\"{genre}_{tag_type}_data\")), \"wb+\") as f:\n",
    "                try:\n",
    "                    pickle.dump(pd.DataFrame(all_rules[genre][tag_type]).fillna(0), f)\n",
    "                except MemoryError:\n",
    "                    print(f\"There was a MemoryError when dumping {genre}_{tag_type}_data\")\n"
   ]
  }
 ],
 "metadata": {
  "kernelspec": {
   "display_name": "Python 3",
   "language": "python",
   "name": "python3"
  },
  "language_info": {
   "codemirror_mode": {
    "name": "ipython",
    "version": 3
   },
   "file_extension": ".py",
   "mimetype": "text/x-python",
   "name": "python",
   "nbconvert_exporter": "python",
   "pygments_lexer": "ipython3",
   "version": "3.7.4"
  }
 },
 "nbformat": 4,
 "nbformat_minor": 4
}
